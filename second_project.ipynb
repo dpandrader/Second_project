{
 "cells": [
  {
   "cell_type": "markdown",
   "id": "b76aa23a",
   "metadata": {},
   "source": [
    "Proyecto 2 — Segunda Fase\n",
    "¡Bienvenido/a! Como miembro del equipo analítico, ya sentaste las bases en la primera parte del proyecto. Ahora, aplicarás técnicas más avanzadas para procesar y analizar los datos de los clientes.\n",
    "\n",
    "Como parte del equipo de análisis de Store 1, has recibido una base de datos cruda con información de clientes y sus compras. Tu objetivo es limpiar y procesar estos datos para poder responder a preguntas clave del negocio, como identificar clientes leales, analizar ingresos por categoría, y encontrar oportunidades de marketing segmentado."
   ]
  },
  {
   "cell_type": "markdown",
   "id": "bb7138c6",
   "metadata": {},
   "source": [
    "Introducción de los datos \n",
    "\n",
    "La tienda Store 1 almacena información de sus usuarios en listas anidadas. Cada sublista contiene:\n",
    "\n",
    "user_id: identificador único\n",
    "user_name: nombre y apellido en un solo string\n",
    "user_age: edad\n",
    "fav_categories: categorías favoritas de compra (mayúsculas)\n",
    "total_spendings: montos correspondientes a cada categoría\n",
    "Ejemplo:\n",
    "\n",
    "users = [\n",
    "    ['32415', ' mike_reed ', 32.0, ['ELECTRONICS', 'SPORT', 'BOOKS'], [894, 213, 173]],\n",
    "    ...\n",
    "]"
   ]
  },
  {
   "cell_type": "markdown",
   "id": "aaced0fc",
   "metadata": {},
   "source": [
    "Paso 1: Limpieza inicial de un registro de cliente\n",
    "Este paso sirve como base para entender los elementos clave de un registro antes de escalar el proceso al resto de los usuarios.\n",
    "\n",
    "Queremos aplicar las siguientes transformaciones:\n",
    "\n",
    "1.Eliminar espacios en blanco y guiones bajos (_) del nombre del usuario.\n",
    "2.Dividir el nombre en una lista separando nombre y apellido.\n",
    "3.Convertir la edad del usuario a un número entero.\n",
    "\n",
    "Instrucciones:\n",
    "\n",
    "Usa la variable user predefinida.\n",
    "Modifica los valores directamente en esa lista.\n",
    "Muestra el resultado final con print(user)."
   ]
  },
  {
   "cell_type": "code",
   "execution_count": 42,
   "id": "137274db",
   "metadata": {},
   "outputs": [
    {
     "name": "stdout",
     "output_type": "stream",
     "text": [
      "['32415', ['mike', 'reed'], 32, ['ELECTRONICS', 'SPORT', 'BOOKS'], [894, 213, 173]]\n"
     ]
    }
   ],
   "source": [
    "# Usuario de ejemplo\n",
    "user = ['32415', ' mike_reed ', 32.0, ['ELECTRONICS', 'SPORT', 'BOOKS'], [894, 213, 173]]\n",
    "\n",
    "# Paso 1: limpiar y dividir el nombre\n",
    " \n",
    "user[1]= user[1].replace('_', ' ')  \n",
    "\n",
    "# # Paso 2: dividir el nombre en una lista\n",
    "user[1]  = user[1].split()\n",
    "\n",
    "# # Paso 3: convertir la edad a entero\n",
    "user[2] = int(user[2])\n",
    "\n",
    " # Mostrar resultado\n",
    "print(user)"
   ]
  },
  {
   "cell_type": "markdown",
   "id": "8a702e56",
   "metadata": {},
   "source": [
    "Paso 2: Convertir las categorías a minúsculas\n",
    "\n",
    "En los datos actuales, las categorías favoritas de los clientes están escritas completamente en mayúsculas. Este formato puede causar inconsistencias en análisis posteriores, como al agrupar, filtrar o contar categorías. Para garantizar una lectura uniforme y facilitar futuras operaciones, es necesario normalizar estos valores a minúsculas.\n",
    "\n",
    "En este paso, trabajaremos con una lista de ejemplo llamada fav_categories y construiremos una nueva lista llamada fav_categories_low, que contendrá las versiones en minúsculas de cada categoría.\n",
    "\n",
    "Instrucciones:\n",
    "\n",
    "1. Crea una nueva lista donde cada categoría esté en minúscula.\n",
    "\n",
    "2. Usando un bucle, recorre y transforma cada elemento de la lista con las categorias en mayuscula para que queden en minuscula.\n",
    "\n",
    "3. Anade cada elemento a la nueva lista fav_categories_low\n",
    "\n",
    "4. Muestra el resultado utilizando print para verificar que la conversión fue exitosa."
   ]
  },
  {
   "cell_type": "code",
   "execution_count": 43,
   "id": "a1807151",
   "metadata": {},
   "outputs": [
    {
     "name": "stdout",
     "output_type": "stream",
     "text": [
      "['electronics', 'sport', 'books']\n"
     ]
    }
   ],
   "source": [
    "# Lista original de categorías favoritas escritas en mayúsculas\n",
    "\n",
    "fav_categories = ['ELECTRONICS', 'SPORT', 'BOOKS']\n",
    "\n",
    "# 1. Lista vacía donde almacenaremos las categorías convertidas a minúsculas\n",
    "fav_categories_low = []\n",
    "\n",
    "# 2. Recorremos cada categoría en la lista original\n",
    "for category in fav_categories:\n",
    "    \n",
    "    # 2. Convertimos la categoría a minúscula utilizando el método lower()\n",
    "    lowered_category = str(fav_categories)\n",
    "    lowered_category = category.lower()\n",
    "\n",
    "    # 3. Agregamos la categoría convertida a la nueva lista\n",
    "    fav_categories_low.append(lowered_category)# escribe tu código aquí\n",
    "\n",
    "# 4. Mostramos en pantalla la lista resultante con las categorías en minúsculas\n",
    "print(fav_categories_low)"
   ]
  },
  {
   "cell_type": "markdown",
   "id": "c3038ccf",
   "metadata": {},
   "source": [
    "Paso 3: Limpieza completa de un usuario\n",
    "\n",
    "Ahora vamos a empaquetar todo ese proceso dentro de una función reutilizable.\n",
    "\n",
    "Crea una función llamada clean_user(user) que realice estas acciones:\n",
    "\n",
    "1. Limpie espacios y guiones del nombre y lo divida en nombre/apellido.\n",
    "2. Convierta la edad a entero.\n",
    "3. Convierta las categorías a minúsculas.\n",
    "4. Usa el mismo código que escribiste en los pasos anteriores. Solo necesitas ajustarlo para que funcione dentro de una función.\n",
    "\n",
    "Prueba tu función con el usuario test_user y muestra el resultado."
   ]
  },
  {
   "cell_type": "code",
   "execution_count": 57,
   "id": "a8d55abc",
   "metadata": {},
   "outputs": [
    {
     "name": "stdout",
     "output_type": "stream",
     "text": [
      "['32415', 'mike reed', 32, ['electronics', 'sport', 'books'], [894, 213, 173]]\n"
     ]
    }
   ],
   "source": [
    "def clean_user(user):\n",
    "    \n",
    "    # Limpia y divide el nombre\n",
    "    name = user[1].replace('_', ' ').strip().lower()\n",
    "\n",
    "    # Edad como entero\n",
    "    age = int(user[2] )\n",
    "    # Categorías a minúsculas\n",
    "\n",
    "    categories = []\n",
    "    for cat in user[3]:\n",
    "        categories.append(cat.lower())\n",
    "        \n",
    "\n",
    "    return [user[0], name, age, categories, user[4]]\n",
    "\n",
    "# Prueba\n",
    "test_user = ['32415', ' mike_reed ', 32.0, ['ELECTRONICS', 'SPORT', 'BOOKS'], [894, 213, 173]]\n",
    "print(clean_user(test_user))\n"
   ]
  },
  {
   "cell_type": "markdown",
   "id": "5a23aa85",
   "metadata": {},
   "source": [
    "Paso 4: Limpieza de toda la base de usuarios\n",
    "\n",
    "Ya tienes la función clean_user() funcionando correctamente. Ahora es momento de aplicarla a todos los registros de clientes.\n",
    "\n",
    "1. Itera sobre la lista users_raw,\n",
    "2. Usa la función clean_user() para limpiar cada usuario,\n",
    "3. Guarda los resultados en una nueva lista llamada users_clean.\n",
    "\n",
    "Al final, imprime users_clean para verificar que todos los usuarios han sido transformados correctamente."
   ]
  },
  {
   "cell_type": "code",
   "execution_count": 58,
   "id": "298b458e",
   "metadata": {},
   "outputs": [
    {
     "name": "stdout",
     "output_type": "stream",
     "text": [
      "[['32415', 'mike reed', 32, ['electronics', 'sport', 'books'], [894, 213, 173]], ['31980', 'kate morgan', 24, ['clothes', 'books'], [439, 390]], ['32156', 'john doe', 37, ['electronics', 'home', 'food'], [459, 120, 99]], ['32761', 'samantha smith', 29, ['clothes', 'electronics', 'beauty'], [299, 679, 85]], ['32984', 'david white', 41, ['books', 'home', 'sport'], [234, 329, 243]], ['33001', 'emily brown', 26, ['beauty', 'home', 'food'], [213, 659, 79]], ['33767', 'maria garcia', 33, ['clothes', 'food', 'beauty'], [499, 189, 63]], ['33912', 'jose martinez', 22, ['sport', 'electronics', 'home'], [259, 549, 109]], ['34009', 'lisa wilson', 35, ['home', 'books', 'clothes'], [329, 189, 329]], ['34278', 'james lee', 28, ['beauty', 'clothes', 'electronics'], [189, 299, 579]]]\n"
     ]
    }
   ],
   "source": [
    "users_raw = [\n",
    "    ['32415', ' mike_reed ', 32.0, ['ELECTRONICS', 'SPORT', 'BOOKS'], [894, 213, 173]],\n",
    "    ['31980', 'kate morgan', 24.0, ['CLOTHES', 'BOOKS'], [439, 390]],\n",
    "    ['32156', ' john doe ', 37.0, ['ELECTRONICS', 'HOME', 'FOOD'], [459, 120, 99]],\n",
    "    ['32761', 'SAMANTHA SMITH', 29.0, ['CLOTHES', 'ELECTRONICS', 'BEAUTY'], [299, 679, 85]],\n",
    "    ['32984', 'David White', 41.0, ['BOOKS', 'HOME', 'SPORT'], [234, 329, 243]],\n",
    "    ['33001', 'emily brown', 26.0, ['BEAUTY', 'HOME', 'FOOD'], [213, 659, 79]],\n",
    "    ['33767', ' Maria Garcia', 33.0, ['CLOTHES', 'FOOD', 'BEAUTY'], [499, 189, 63]],\n",
    "    ['33912', 'JOSE MARTINEZ', 22.0, ['SPORT', 'ELECTRONICS', 'HOME'], [259, 549, 109]],\n",
    "    ['34009', 'lisa wilson ', 35.0, ['HOME', 'BOOKS', 'CLOTHES'], [329, 189, 329]],\n",
    "    ['34278', 'James Lee', 28.0, ['BEAUTY', 'CLOTHES', 'ELECTRONICS'], [189, 299, 579]]\n",
    "]\n",
    "\n",
    "users_clean = []\n",
    "\n",
    "for user in users_raw:\n",
    "    cleaned = clean_user(user)  # Aplicar la función a cada usuario\n",
    "    users_clean.append(cleaned)  # Guardar el resultado en la lista final\n",
    "\n",
    "print(users_clean)"
   ]
  },
  {
   "cell_type": "markdown",
   "id": "e8ac262b",
   "metadata": {},
   "source": [
    "Paso 5: Calcular ingresos totales\n",
    "\n",
    "Ahora que tienes todos los registros de clientes limpios, el siguiente paso es comenzar a generar insights que puedan ayudar a la empresa a tomar decisiones estratégicas.\n",
    "\n",
    "La empresa desea conocer sus ingresos totales.\n",
    "\n",
    "Para calcular los ingresos de la empresa, sigue estos pasos:\n",
    "\n",
    "1. Crea una variable revenue con valor inicial 0.\n",
    "2. Itera sobre la lista users_clean con un bucle for.\n",
    "3. En cada iteración, extrae la lista de gastos de cada usuario (la última posición de la sublista).\n",
    "4. Suma esos valores con sum() y añádelos a revenue.\n",
    "5. Al finalizar, imprime el resultado final para mostrar el ingreso total generado por todos los usuarios."
   ]
  },
  {
   "cell_type": "code",
   "execution_count": null,
   "id": "0e16e8dd",
   "metadata": {},
   "outputs": [
    {
     "name": "stdout",
     "output_type": "stream",
     "text": [
      "9189\n"
     ]
    }
   ],
   "source": [
    "users_clean = [['32415', ['mike', 'reed'], 32, ['electronics', 'sport', 'books'], [894, 213, 173]],\n",
    "         \t\t\t ['31980', ['kate', 'morgan'], 24, ['clothes', 'books'], [439, 390]],\n",
    "         \t\t\t ['32156', ['john', 'doe'], 37, ['electronics', 'home', 'food'], [459, 120, 99]],\n",
    "         \t\t\t ['32761', ['samantha', 'smith'], 29, ['clothes', 'electronics', 'beauty'], [299, 679, 85]],\n",
    "         \t\t\t ['32984', ['david', 'white'], 41, ['books', 'home', 'sport'], [234, 329, 243]],\n",
    "         \t\t\t ['33001', ['emily', 'brown'], 26, ['beauty', 'home', 'food'], [213, 659, 79]],\n",
    "         \t\t\t ['33767', ['maria', 'garcia'], 33, ['clothes', 'food', 'beauty'], [499, 189, 63]],\n",
    "         \t\t\t ['33912', ['jose', 'martinez'], 22, ['sport', 'electronics', 'home'], [259, 549, 109]],\n",
    "         \t\t\t ['34009', ['lisa', 'wilson'], 35, ['home', 'books', 'clothes'], [329, 189, 329]],\n",
    "         \t\t\t ['34278', ['james', 'lee'], 28, ['beauty', 'clothes', 'electronics'], [189, 299, 579]]]\n",
    "\n",
    "revenue = 0\n",
    "\n",
    "for user in users_clean:\n",
    "    expenses = user[4]  # Extraer la lista de gastos\n",
    "    revenue += sum(expenses)  # Sumar los gastos al total de ingresos\n",
    "\n",
    "\n",
    "print(revenue)"
   ]
  },
  {
   "cell_type": "markdown",
   "id": "1cebfea3",
   "metadata": {},
   "source": [
    "Paso 6: Usuarios menores de 30 años\n",
    "\n",
    "El equipo de marketing quiere segmentar a los usuarios jóvenes para campañas específicas. Vamos a identificarlos.\n",
    "\n",
    "Recorre la lista de usuarios users_clean que has preparado anteriormente y muestra los nombres de los clientes menores de 30 años.\n",
    "\n",
    "Pasos:\n",
    "1. Escribe un bucle for que recorra cada usuario en users_clean.\n",
    "\n",
    "2. Agrega una condición if para seleccionar a los usuarios menores de 30 años.\n",
    "\n",
    "3. Dentro del bloque, imprime solo el primer elemento del nombre del usuario.\n",
    "\n",
    "📌 Recuerda:\n",
    "\n",
    "Si un elemento dentro de la lista contiene otra lista (como el nombre del usuario), puedes acceder a sus valores usando múltiples índices. Primero accede a la posición del nombre completo, y luego selecciona la parte específica que quieras mostrar.\n",
    "\n",
    "Al ejecutar el código, deberás ver los nombres de los usuarios menores de 30 años."
   ]
  },
  {
   "cell_type": "code",
   "execution_count": 65,
   "id": "4f903fb5",
   "metadata": {},
   "outputs": [
    {
     "name": "stdout",
     "output_type": "stream",
     "text": [
      "kate\n",
      "samantha\n",
      "emily\n",
      "jose\n",
      "james\n"
     ]
    }
   ],
   "source": [
    "users_clean = [['32415', ['mike', 'reed'], 32, ['electronics', 'sport', 'books'], [894, 213, 173]],\n",
    "         \t\t\t ['31980', ['kate', 'morgan'], 24, ['clothes', 'books'], [439, 390]],\n",
    "         \t\t\t ['32156', ['john', 'doe'], 37, ['electronics', 'home', 'food'], [459, 120, 99]],\n",
    "         \t\t\t ['32761', ['samantha', 'smith'], 29, ['clothes', 'electronics', 'beauty'], [299, 679, 85]],\n",
    "         \t\t\t ['32984', ['david', 'white'], 41, ['books', 'home', 'sport'], [234, 329, 243]],\n",
    "         \t\t\t ['33001', ['emily', 'brown'], 26, ['beauty', 'home', 'food'], [213, 659, 79]],\n",
    "         \t\t\t ['33767', ['maria', 'garcia'], 33, ['clothes', 'food', 'beauty'], [499, 189, 63]],\n",
    "         \t\t\t ['33912', ['jose', 'martinez'], 22, ['sport', 'electronics', 'home'], [259, 549, 109]],\n",
    "         \t\t\t ['34009', ['lisa', 'wilson'], 35, ['home', 'books', 'clothes'], [329, 189, 329]],\n",
    "         \t\t\t ['34278', ['james', 'lee'], 28, ['beauty', 'clothes', 'electronics'], [189, 299, 579]]]\n",
    "\n",
    "\n",
    "for user in users_clean:\n",
    "\tif user[2] < 30:  # Verificar si la edad es menor de 30\n",
    "\t\tprint(user[1][0])  # Imprimir el primer nombre del usuario\n"
   ]
  },
  {
   "cell_type": "markdown",
   "id": "8f9f6b7f",
   "metadata": {},
   "source": [
    "Paso 7: Jóvenes con alto gasto\n",
    "\n",
    "Ahora filtraremos a los usuarios jóvenes que también han gastado mucho dinero, para que la empresa pueda identificarlos y darles beneficios especiales.\n",
    "\n",
    "Debajo tienes la lista users_clean con todos los datos procesados.\n",
    "\n",
    "Pasos:\n",
    "1. Escribe un bucle for que recorra cada usuario en users_clean.\n",
    "2. Calcula el total gastado por cada usuario (suma de la lista de gastos).\n",
    "3. Usa una condición if para mostrar solo los usuarios menores de 30 años y con un gasto total superior a $1000.\n",
    "4. Imprime solo la primera parte del nombre de cada usuario que cumpla ambos criterios."
   ]
  },
  {
   "cell_type": "code",
   "execution_count": 67,
   "id": "4945833d",
   "metadata": {},
   "outputs": [
    {
     "name": "stdout",
     "output_type": "stream",
     "text": [
      "samantha\n",
      "james\n"
     ]
    }
   ],
   "source": [
    "users_clean = [['32415', ['mike', 'reed'], 32, ['electronics', 'sport', 'books'], [894, 213, 173]],\n",
    "         \t\t\t ['31980', ['kate', 'morgan'], 24, ['clothes', 'books'], [439, 390]],\n",
    "         \t\t\t ['32156', ['john', 'doe'], 37, ['electronics', 'home', 'food'], [459, 120, 99]],\n",
    "         \t\t\t ['32761', ['samantha', 'smith'], 29, ['clothes', 'electronics', 'beauty'], [299, 679, 85]],\n",
    "         \t\t\t ['32984', ['david', 'white'], 41, ['books', 'home', 'sport'], [234, 329, 243]],\n",
    "         \t\t\t ['33001', ['emily', 'brown'], 26, ['beauty', 'home', 'food'], [213, 659, 79]],\n",
    "         \t\t\t ['33767', ['maria', 'garcia'], 33, ['clothes', 'food', 'beauty'], [499, 189, 63]],\n",
    "         \t\t\t ['33912', ['jose', 'martinez'], 22, ['sport', 'electronics', 'home'], [259, 549, 109]],\n",
    "         \t\t\t ['34009', ['lisa', 'wilson'], 35, ['home', 'books', 'clothes'], [329, 189, 329]],\n",
    "         \t\t\t ['34278', ['james', 'lee'], 28, ['beauty', 'clothes', 'electronics'], [189, 299, 579]]]\n",
    "\n",
    "for user in users_clean:\n",
    "    total_spent = sum(user[4])  \n",
    "    if user[2] < 30 and total_spent > 1000:  \n",
    "        print(user[1][0])        "
   ]
  },
  {
   "cell_type": "markdown",
   "id": "fe8a06fd",
   "metadata": {},
   "source": [
    "Paso 8: Usuarios que compraron ropa\n",
    "\n",
    "Store 1 también está explorando patrones de compra por categoría. Comenzamos con la categoría \"clothes\".\n",
    "\n",
    "Debajo tienes la lista users_clean con toda la información de compras ya procesada.\n",
    "\n",
    "Pasos:\n",
    "1. Escribe un bucle for que recorra cada usuario en users_clean.\n",
    "2. Usa una condición if para verificar si \"clothes\" está entre las categorías compradas.\n",
    "3. Si cumple la condición, imprime el nombre del usuario y su edad en la misma línea."
   ]
  },
  {
   "cell_type": "code",
   "execution_count": 80,
   "id": "7e5d0620",
   "metadata": {},
   "outputs": [
    {
     "name": "stdout",
     "output_type": "stream",
     "text": [
      "kate 24\n",
      "samantha 29\n",
      "maria 33\n",
      "lisa 35\n",
      "james 28\n"
     ]
    }
   ],
   "source": [
    "users_clean = [['32415', ['mike', 'reed'], 32, ['electronics', 'sport', 'books'], [894, 213, 173]],\n",
    "         \t\t\t ['31980', ['kate', 'morgan'], 24, ['clothes', 'books'], [439, 390]],\n",
    "         \t\t\t ['32156', ['john', 'doe'], 37, ['electronics', 'home', 'food'], [459, 120, 99]],\n",
    "         \t\t\t ['32761', ['samantha', 'smith'], 29, ['clothes', 'electronics', 'beauty'], [299, 679, 85]],\n",
    "         \t\t\t ['32984', ['david', 'white'], 41, ['books', 'home', 'sport'], [234, 329, 243]],\n",
    "         \t\t\t ['33001', ['emily', 'brown'], 26, ['beauty', 'home', 'food'], [213, 659, 79]],\n",
    "         \t\t\t ['33767', ['maria', 'garcia'], 33, ['clothes', 'food', 'beauty'], [499, 189, 63]],\n",
    "         \t\t\t ['33912', ['jose', 'martinez'], 22, ['sport', 'electronics', 'home'], [259, 549, 109]],\n",
    "         \t\t\t ['34009', ['lisa', 'wilson'], 35, ['home', 'books', 'clothes'], [329, 189, 329]],\n",
    "         \t\t\t ['34278', ['james', 'lee'], 28, ['beauty', 'clothes', 'electronics'], [189, 299, 579]]]\n",
    "\n",
    "for user in users_clean:\n",
    "    if \"clothes\" in user[3] :\n",
    "        print(user[1][0], user[2])  # Imprimir el primer nombre del usuario\n",
    "                "
   ]
  },
  {
   "cell_type": "markdown",
   "id": "27650237",
   "metadata": {},
   "source": [
    "Paso 9: Función con filtro por categoría\n",
    "\n",
    "Para automatizar el análisis por categoría, implementaremos una función reutilizable que permita obtener los clientes que hayan comprado en una categoría específica.\n",
    "\n",
    "Debajo tienes el nombre de la función y una prueba ya preparada con la categoría \"home\". Solo necesitas completar el cuerpo de la función.\n",
    "\n",
    "Pasos:\n",
    "Completa la definición de la función get_clients_by_category con dos argumentos: una lista de usuarios y una categoría a buscar.\n",
    "\n",
    "Dentro de la función:\n",
    "\n",
    "Crea una lista vacía para guardar los resultados.\n",
    "Recorre cada usuario con un bucle for.\n",
    "Usa una condición if para verificar si la categoría está en su lista de compras.\n",
    "Si se cumple la condición, agrega a la lista de resultados una sublista con su ID, nombre completo, edad y gasto total.\n",
    "Devuelve la lista resultante al final de la función."
   ]
  },
  {
   "cell_type": "code",
   "execution_count": 95,
   "id": "37f796ff",
   "metadata": {},
   "outputs": [
    {
     "name": "stdout",
     "output_type": "stream",
     "text": [
      "[['32156', ['john', 'doe'], 37, ['electronics', 'home', 'food'], [459, 120, 99]], ['32984', ['david', 'white'], 41, ['books', 'home', 'sport'], [234, 329, 243]], ['33001', ['emily', 'brown'], 26, ['beauty', 'home', 'food'], [213, 659, 79]], ['33912', ['jose', 'martinez'], 22, ['sport', 'electronics', 'home'], [259, 549, 109]], ['34009', ['lisa', 'wilson'], 35, ['home', 'books', 'clothes'], [329, 189, 329]]]\n"
     ]
    }
   ],
   "source": [
    "users_clean = [['32415', ['mike', 'reed'], 32, ['electronics', 'sport', 'books'], [894, 213, 173]],\n",
    "         \t\t\t ['31980', ['kate', 'morgan'], 24, ['clothes', 'books'], [439, 390]],\n",
    "         \t\t\t ['32156', ['john', 'doe'], 37, ['electronics', 'home', 'food'], [459, 120, 99]],\n",
    "         \t\t\t ['32761', ['samantha', 'smith'], 29, ['clothes', 'electronics', 'beauty'], [299, 679, 85]],\n",
    "         \t\t\t ['32984', ['david', 'white'], 41, ['books', 'home', 'sport'], [234, 329, 243]],\n",
    "         \t\t\t ['33001', ['emily', 'brown'], 26, ['beauty', 'home', 'food'], [213, 659, 79]],\n",
    "         \t\t\t ['33767', ['maria', 'garcia'], 33, ['clothes', 'food', 'beauty'], [499, 189, 63]],\n",
    "         \t\t\t ['33912', ['jose', 'martinez'], 22, ['sport', 'electronics', 'home'], [259, 549, 109]],\n",
    "         \t\t\t ['34009', ['lisa', 'wilson'], 35, ['home', 'books', 'clothes'], [329, 189, 329]],\n",
    "         \t\t\t ['34278', ['james', 'lee'], 28, ['beauty', 'clothes', 'electronics'], [189, 299, 579]]]\n",
    "\n",
    "def get_clients_by_category(data, category):\n",
    "    result = []\n",
    "    for user in data:\n",
    "        if category in user[3]:  # Verificar si la categoría está en la lista de categorías del usuario\n",
    "            result.append(user)  # Agregar el usuario al resultado  \n",
    "    return result\n",
    "\n",
    "# Prueba con la categoría 'home'\n",
    "filtered = get_clients_by_category(users_clean, 'home')\n",
    "print(filtered)"
   ]
  }
 ],
 "metadata": {
  "kernelspec": {
   "display_name": "base",
   "language": "python",
   "name": "python3"
  },
  "language_info": {
   "codemirror_mode": {
    "name": "ipython",
    "version": 3
   },
   "file_extension": ".py",
   "mimetype": "text/x-python",
   "name": "python",
   "nbconvert_exporter": "python",
   "pygments_lexer": "ipython3",
   "version": "3.11.7"
  }
 },
 "nbformat": 4,
 "nbformat_minor": 5
}
